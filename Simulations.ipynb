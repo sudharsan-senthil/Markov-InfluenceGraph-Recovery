{
 "cells": [
  {
   "cell_type": "code",
   "execution_count": 1,
   "metadata": {},
   "outputs": [],
   "source": [
    "def get_ring_graph(n):\n",
    "    return [[(i-1)%n, (i+1)%n] for i in range(n)]\n",
    "\n",
    "def get_line_graph(n):\n",
    "    g = get_ring_graph(n)\n",
    "    g[0] = [1]\n",
    "    g[-1].pop()\n",
    "    return g"
   ]
  },
  {
   "cell_type": "code",
   "execution_count": 2,
   "metadata": {},
   "outputs": [],
   "source": [
    "def verify(a, g): # to verify if a and g are the same graphs, a might contain the node itself on the node's neighbor list\n",
    "    for v in range(len(a)):\n",
    "        s = set(a[v][1:])\n",
    "        if s != set(g[v]):\n",
    "            return 0\n",
    "    return 1    "
   ]
  },
  {
   "cell_type": "code",
   "execution_count": 3,
   "metadata": {},
   "outputs": [],
   "source": [
    "from netsim import *\n",
    "from algorithms import *"
   ]
  },
  {
   "cell_type": "code",
   "execution_count": 6,
   "metadata": {},
   "outputs": [
    {
     "name": "stdout",
     "output_type": "stream",
     "text": [
      "Time taken: 12.138498 seconds\n",
      "Time taken: 12.324723 seconds\n",
      "Time taken: 11.775781 seconds\n",
      "Time taken: 13.211766 seconds\n",
      "Time taken: 12.249125 seconds\n",
      "Time taken: 29.642741 seconds\n",
      "Time taken: 38.038126 seconds\n",
      "Time taken: 12.863377 seconds\n",
      "Time taken: 12.086500 seconds\n",
      "Time taken: 14.978779 seconds\n",
      "Time taken: 37.482098 seconds\n",
      "Time taken: 30.099281 seconds\n",
      "Time taken: 12.093237 seconds\n",
      "Time taken: 12.307811 seconds\n",
      "Time taken: 12.812253 seconds\n",
      "Time taken: 28.890495 seconds\n",
      "Time taken: 30.688226 seconds\n",
      "Time taken: 31.318288 seconds\n",
      "Time taken: 45.883877 seconds\n"
     ]
    },
    {
     "ename": "KeyboardInterrupt",
     "evalue": "",
     "output_type": "error",
     "traceback": [
      "\u001b[31m---------------------------------------------------------------------------\u001b[39m",
      "\u001b[31mKeyboardInterrupt\u001b[39m                         Traceback (most recent call last)",
      "\u001b[36mCell\u001b[39m\u001b[36m \u001b[39m\u001b[32mIn[6]\u001b[39m\u001b[32m, line 16\u001b[39m\n\u001b[32m     14\u001b[39m start = time.time()\n\u001b[32m     15\u001b[39m samps = generate_samples_coin_toss(G,\u001b[32m5000\u001b[39m, Mu,\u001b[32m1\u001b[39m,\u001b[32m30\u001b[39m, \u001b[32m0.7\u001b[39m)\n\u001b[32m---> \u001b[39m\u001b[32m16\u001b[39m g1 = \u001b[43mRecGreedy\u001b[49m\u001b[43m(\u001b[49m\u001b[43me\u001b[49m\u001b[43m,\u001b[49m\u001b[43m \u001b[49m\u001b[43msamps\u001b[49m\u001b[43m)\u001b[49m\n\u001b[32m     17\u001b[39m end = time.time()  \u001b[38;5;66;03m# End time\u001b[39;00m\n\u001b[32m     19\u001b[39m \u001b[38;5;28mprint\u001b[39m(\u001b[33mf\u001b[39m\u001b[33m\"\u001b[39m\u001b[33mTime taken: \u001b[39m\u001b[38;5;132;01m{\u001b[39;00mend\u001b[38;5;250m \u001b[39m-\u001b[38;5;250m \u001b[39mstart\u001b[38;5;132;01m:\u001b[39;00m\u001b[33m.6f\u001b[39m\u001b[38;5;132;01m}\u001b[39;00m\u001b[33m seconds\u001b[39m\u001b[33m\"\u001b[39m)\n",
      "\u001b[36mFile \u001b[39m\u001b[32md:\\undergrad stuff\\Markov-InfluenceGraph-Recovery\\algorithms.py:30\u001b[39m, in \u001b[36mRecGreedy\u001b[39m\u001b[34m(E, S)\u001b[39m\n\u001b[32m     28\u001b[39m min_H_v_Q, min_T_C_v = \u001b[32m10\u001b[39m**\u001b[32m5\u001b[39m, -\u001b[32m1\u001b[39m\n\u001b[32m     29\u001b[39m \u001b[38;5;28;01mfor\u001b[39;00m T_C_v \u001b[38;5;129;01min\u001b[39;00m T_C:\n\u001b[32m---> \u001b[39m\u001b[32m30\u001b[39m     h = \u001b[43mH_v_plus_C_Q\u001b[49m\u001b[43m(\u001b[49m\u001b[43mv\u001b[49m\u001b[43m,\u001b[49m\u001b[43m \u001b[49m\u001b[43mT\u001b[49m\u001b[43m \u001b[49m\u001b[43m+\u001b[49m\u001b[43m \u001b[49m\u001b[43m[\u001b[49m\u001b[43mT_C_v\u001b[49m\u001b[43m]\u001b[49m\u001b[43m,\u001b[49m\u001b[43m \u001b[49m\u001b[43mS\u001b[49m\u001b[43m)\u001b[49m                    \n\u001b[32m     31\u001b[39m     \u001b[38;5;28;01mif\u001b[39;00m h < min_H_v_Q:\n\u001b[32m     32\u001b[39m         min_H_v_Q = h\n",
      "\u001b[36mFile \u001b[39m\u001b[32md:\\undergrad stuff\\Markov-InfluenceGraph-Recovery\\estimators.py:98\u001b[39m, in \u001b[36mH_v_plus_C_Q\u001b[39m\u001b[34m(v_plus, Q, S)\u001b[39m\n\u001b[32m     97\u001b[39m \u001b[38;5;28;01mdef\u001b[39;00m\u001b[38;5;250m \u001b[39m\u001b[34mH_v_plus_C_Q\u001b[39m(v_plus, Q, S): \u001b[38;5;66;03m# Q includes v\u001b[39;00m\n\u001b[32m---> \u001b[39m\u001b[32m98\u001b[39m     Pr_v_plus_Q = \u001b[43mP_v_plus_Q\u001b[49m\u001b[43m(\u001b[49m\u001b[43mv_plus\u001b[49m\u001b[43m,\u001b[49m\u001b[43m \u001b[49m\u001b[43mQ\u001b[49m\u001b[43m,\u001b[49m\u001b[43m \u001b[49m\u001b[43mS\u001b[49m\u001b[43m)\u001b[49m.values()\n\u001b[32m     99\u001b[39m     Pr_Q = P_Q(Q, S).values()\n\u001b[32m    101\u001b[39m     \u001b[38;5;28;01mreturn\u001b[39;00m H(Pr_v_plus_Q) - H(Pr_Q)\n",
      "\u001b[36mFile \u001b[39m\u001b[32md:\\undergrad stuff\\Markov-InfluenceGraph-Recovery\\estimators.py:26\u001b[39m, in \u001b[36mP_v_plus_Q\u001b[39m\u001b[34m(v_plus, Q, S)\u001b[39m\n\u001b[32m     24\u001b[39m     S1.append([])\n\u001b[32m     25\u001b[39m     \u001b[38;5;28;01mfor\u001b[39;00m v \u001b[38;5;129;01min\u001b[39;00m \u001b[38;5;28mrange\u001b[39m(N):\n\u001b[32m---> \u001b[39m\u001b[32m26\u001b[39m         S1[-\u001b[32m1\u001b[39m].append(\u001b[38;5;28msum\u001b[39m(S[t][v])/\u001b[38;5;28mlen\u001b[39m(S[t][v]))\n\u001b[32m     27\u001b[39m S2 = []\n\u001b[32m     28\u001b[39m \u001b[38;5;28;01mfor\u001b[39;00m t \u001b[38;5;129;01min\u001b[39;00m \u001b[38;5;28mrange\u001b[39m(T-\u001b[32m1\u001b[39m):\n",
      "\u001b[31mKeyboardInterrupt\u001b[39m: "
     ]
    }
   ],
   "source": [
    "import time\n",
    "\n",
    "G = get_ring_graph(10)\n",
    "def Mu(x):\n",
    "    return 0.4*x # L = 0.4, Mu_max = 0.4\n",
    "\n",
    "E = [0.04,0.05,0.06,0.07,0.09,0.1]\n",
    "# E = [0.15]\n",
    "y = []\n",
    "num = 25\n",
    "for e in E:\n",
    "    c = 0\n",
    "    for _ in range(num):\n",
    "        start = time.time()\n",
    "        samps = generate_samples_coin_toss(G,5000, Mu,1,30, 0.7)\n",
    "        g1 = RecGreedy(e, samps)\n",
    "        end = time.time()  # End time\n",
    "\n",
    "        print(f\"Time taken: {end - start:.6f} seconds\")\n",
    "        # print(g1)\n",
    "        c += verify(g1,G)\n",
    "        \n",
    "    print(c/num)\n",
    "    y.append(c/num)"
   ]
  },
  {
   "cell_type": "code",
   "execution_count": 17,
   "metadata": {},
   "outputs": [
    {
     "data": {
      "text/plain": [
       "8"
      ]
     },
     "execution_count": 17,
     "metadata": {},
     "output_type": "execute_result"
    }
   ],
   "source": [
    "len(Y_T_3400)"
   ]
  },
  {
   "cell_type": "code",
   "execution_count": 8,
   "metadata": {},
   "outputs": [],
   "source": [
    "# ring 10 nodes\n",
    "E_T_6000_0p7 = [0.01,0.02,0.03,0.04,0.05,0.055,0.06,0.065,0.07]\n",
    "Y_T_6000_0p7 = [0,0.28,0.4,1,1,0.8,0.44,0.04,0]\n",
    "E_T_6000_0p9 = [0.02,0.03,0.04, 0.05, 0.06, 0.07,0.08, 0.09, 0.1]\n",
    "Y_T_6000_0p9 = [0,0.44,1.0, 1.0, 1.0, 1.0, 1,0.68, 0.08]\n",
    "E_T_5000_0p9 = [0.03,0.04, 0.05, 0.06, 0.07, 0.09, 0.1]\n",
    "Y_T_5000_0p9 = [0,0.88, 1.0, 1.0, 1.0, 0.68, 0.08]"
   ]
  },
  {
   "cell_type": "code",
   "execution_count": null,
   "metadata": {},
   "outputs": [],
   "source": [
    "# p = 0.7\n",
    "# T, eps, y\n",
    "5000, 0.04, 1\n",
    "4500, 0.05, 1\n",
    "4000, 0.054, 0.92\n",
    "3500, 0.05, 0.64\n",
    "3000, 0.061, 0.4\n",
    "2600, 0.067, 0.12\n",
    "2200, 0.076, 0.04\n",
    "2000,_,0 "
   ]
  },
  {
   "cell_type": "code",
   "execution_count": 1,
   "metadata": {},
   "outputs": [],
   "source": [
    "T_0p7 = [2000, 2200, 2600, 3000, 3500, 4000, 4500, 5000]\n",
    "Y_0p7 = [0, 0.04, 0.12, 0.4, 0.64, 0.92, 1, 1]\n",
    "T_0p9 = [1200, 1600, 2000, 2600, 3000,3500,4000]\n",
    "Y_0p9 = [0.04,0.36, 0.68, 0.96, 1,1,1]\n",
    "T_1 = [800, 1000, 1200, 1600, 2000,2500, 3000,3500]\n",
    "Y_1 = [0.04, 0.12, 0.56, 0.88, 1,1,1,1]"
   ]
  },
  {
   "cell_type": "code",
   "execution_count": null,
   "metadata": {},
   "outputs": [],
   "source": []
  }
 ],
 "metadata": {
  "kernelspec": {
   "display_name": "Python 3",
   "language": "python",
   "name": "python3"
  },
  "language_info": {
   "codemirror_mode": {
    "name": "ipython",
    "version": 3
   },
   "file_extension": ".py",
   "mimetype": "text/x-python",
   "name": "python",
   "nbconvert_exporter": "python",
   "pygments_lexer": "ipython3",
   "version": "3.13.3"
  }
 },
 "nbformat": 4,
 "nbformat_minor": 2
}
