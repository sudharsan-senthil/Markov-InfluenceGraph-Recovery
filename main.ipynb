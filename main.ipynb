{
 "cells": [
  {
   "cell_type": "code",
   "execution_count": 1,
   "metadata": {},
   "outputs": [],
   "source": [
    "import numpy as np\n",
    "import matplotlib.pyplot as plt"
   ]
  },
  {
   "cell_type": "code",
   "execution_count": 2,
   "metadata": {},
   "outputs": [],
   "source": [
    "G = [[4,1],[0,2],[1,3],[2,4],[3]] # array at the ith position contains the neighbouring nodes of node i\n",
    "N = len(G) \n",
    "G_params = [0.5]*N # initially unbiased -> Bernoulli parameters\n",
    "A_V = [0.8 for v in range(N)] # influence of samples -> alpha_v in paper\n",
    "A_VU = [1/(len(G[v])+1) for v in range(N)] # all neighbours equally influence any node\n",
    "M = 1 # number of Bernoulli variables\n",
    "Beta = 0.75  \n",
    "Lv = 0.167\n",
    "\n",
    "def generate_samples(M,T): # for t time steps\n",
    "    samples = []\n",
    "    # samples for t=0\n",
    "    samples.append([])\n",
    "    for v in range(N):\n",
    "        sample = []\n",
    "        for m in range(M):\n",
    "            sample.append(np.random.binomial(n=1, p=G_params[v]))\n",
    "        samples[-1].append(sample)        \n",
    " \n",
    "    for t in range(1,T):\n",
    "        samples.append([])\n",
    "        # determine the Bernoulli paremeters for t\n",
    "        for v in range(N):\n",
    "            influ = 0\n",
    "            for Nv in G[v]:\n",
    "                Nv_p = sum(samples[t-1][Nv]) # number of ones\n",
    "                influ += A_VU[v]*Nv_p/M\n",
    "            influ += A_VU[v]*samples[t-1][v][0]/M # influenced by self\n",
    "    \n",
    "            # updating the Bernoulli parameters\n",
    "            G_params[v] = (1 - A_V[v])*((1-Beta)*np.random.binomial(n=1,p=0.7) + Beta*Lv) + A_V[v]*influ\n",
    "            \n",
    "            sample = []\n",
    "            for m in range(M):\n",
    "                sample.append(np.random.binomial(n=1, p=G_params[v]))\n",
    "            samples[-1].append(sample) \n",
    "\n",
    "    return samples"
   ]
  },
  {
   "cell_type": "code",
   "execution_count": 3,
   "metadata": {},
   "outputs": [],
   "source": [
    "from collections import Counter\n",
    "\n",
    "def P_estimator(S): # where S is a 3d array, containing samples from T time instances, and every instance contains N*M binary samples\n",
    "    T, N, M = len(S), len(S[0]), len(S[0][0])\n",
    "    S1 = []\n",
    "    for t in range(T):\n",
    "        S1.append([])\n",
    "        for v in range(N):\n",
    "            S1[-1].append(sum(S[t][v])/len(S[t][v]))\n",
    "    \n",
    "    S2 = [[x[v] for x in S1] for v in range(N)] # each array contains samples of one particular node\n",
    "    P_V = []\n",
    "    for v in range(N):\n",
    "        counts = Counter(S2[v])\n",
    "        P_V.append({key: value/T for key, value in counts.items()})\n",
    "\n",
    "    return P_V        "
   ]
  },
  {
   "cell_type": "code",
   "execution_count": 4,
   "metadata": {},
   "outputs": [],
   "source": [
    "def P_v_plus_Q(v_plus, Q, S): # v_plus-> node-v value @ (t+1), Q is a subset of nodes [include node-v here if required]\n",
    "    T, N = len(S), len(S[0])\n",
    "    S1 = []\n",
    "    for t in range(T):\n",
    "        S1.append([])\n",
    "        for v in range(N):\n",
    "            S1[-1].append(sum(S[t][v])/len(S[t][v]))\n",
    "    S2 = []\n",
    "    for t in range(T-1):\n",
    "        sample = tuple([S1[t+1][v_plus]] + [S1[t][v] for v in Q]) # tuples is required for hashing\n",
    "        S2.append(sample)\n",
    "\n",
    "    counts = Counter(S2)\n",
    "    P = {key: value/T for key, value in counts.items()} # P([V(t+1),Q(t)])\n",
    "\n",
    "    return P                "
   ]
  },
  {
   "cell_type": "code",
   "execution_count": 5,
   "metadata": {},
   "outputs": [],
   "source": [
    "def P_Q(Q, S):\n",
    "    T, N = len(S), len(S[0])\n",
    "    S1 = []\n",
    "    for t in range(T):\n",
    "        S1.append([])\n",
    "        for v in range(N):\n",
    "            S1[-1].append(sum(S[t][v])/len(S[t][v]))\n",
    "    S2 = []\n",
    "    for t in range(T-1):\n",
    "        sample = tuple([S1[t][v] for v in Q]) # tuples is required for hashing\n",
    "        S2.append(sample)\n",
    "\n",
    "    counts = Counter(S2)\n",
    "    P = {key: value/T for key, value in counts.items()} # P(Q(t))\n",
    "\n",
    "    return P"
   ]
  },
  {
   "cell_type": "code",
   "execution_count": 20,
   "metadata": {},
   "outputs": [],
   "source": [
    "import math\n",
    "def H(prob_dist):\n",
    "    return -sum(p * math.log2(p) for p in prob_dist if p > 0)\n",
    "\n",
    "def P_Q_past(Q, D, S): # D is a list of time stamps. for coin-toss model D = [0,d]. P({Q(t),Q(t-d)})\n",
    "    T, N = len(S), len(S[0])\n",
    "    S1 = []\n",
    "    for t in range(T):\n",
    "        S1.append([])\n",
    "        for v in range(N):\n",
    "            S1[-1].append(sum(S[t][v])/len(S[t][v]))\n",
    "    S2 = []\n",
    "    for t in range(D[-1],T-1):\n",
    "        sample = []\n",
    "        for d in D:\n",
    "            sample += [S1[t-d][v] for v in Q]\n",
    "        sample = tuple(sample) # tuples is required for hashing\n",
    "        S2.append(sample)\n",
    "\n",
    "    counts = Counter(S2)\n",
    "    P = {key: value/T for key, value in counts.items()} # P(Q(t))\n",
    "\n",
    "    return P\n",
    "\n",
    "def P_v_plus_Q_past(v_plus, Q, D, S):\n",
    "    T, N = len(S), len(S[0])\n",
    "    S1 = []\n",
    "    for t in range(T):\n",
    "        S1.append([])\n",
    "        for v in range(N):\n",
    "            S1[-1].append(sum(S[t][v])/len(S[t][v]))\n",
    "    S2 = []\n",
    "    for t in range(D[-1],T-1):\n",
    "        sample = []\n",
    "        for d in D:\n",
    "            sample += [S1[t-d][v] for v in Q]\n",
    "        sample = tuple([S1[t+1][v_plus]] + sample) # tuples is required for hashing\n",
    "        S2.append(sample)\n",
    "\n",
    "    counts = Counter(S2)\n",
    "    P = {key: value/T for key, value in counts.items()} # P(Q(t))\n",
    "\n",
    "    return P\n",
    "\n",
    "def H_v_plus_C_Q(v_plus, Q, S): # Q includes v\n",
    "    Pr_v_plus_Q = P_v_plus_Q(v_plus, Q, S).values()\n",
    "    Pr_Q = P_Q(Q, S).values()\n",
    "    \n",
    "    return H(Pr_v_plus_Q) - H(Pr_Q) \n",
    "\n",
    "def H_v_plus_C_Q_past(v_plus, Q, D, S): # H(v+ |{Q(t),Q(t-d)})\n",
    "    Pr_v_plus_Q_past = P_v_plus_Q_past(v_plus, Q, D, S).values()\n",
    "    Pr_Q_past = P_Q_past(Q, D, S).values()\n",
    "    \n",
    "    return H(Pr_v_plus_Q_past) - H(Pr_Q_past)"
   ]
  },
  {
   "cell_type": "code",
   "execution_count": 7,
   "metadata": {},
   "outputs": [],
   "source": [
    "import copy\n",
    "\n",
    "\n",
    "def RecGreedy(E, S): # E-> epsilon\n",
    "    T, N = len(S), len(S[0])\n",
    "    N_V = []\n",
    "    for v in range(N):\n",
    "        N_v ,T = [v], []\n",
    "        iterate_1 = True\n",
    "        while iterate_1:\n",
    "            # print(\"iteration 1\")\n",
    "            T = copy.deepcopy(N_v) # temp neighbour nodes list\n",
    "            iterate_2 = True\n",
    "            T_C = [x for x in range(N) if x not in T] # complement of T\n",
    "            last = -1\n",
    "            if not len(T_C):\n",
    "                break\n",
    "            while iterate_2: # to add the last node appended to T as a legit neighbour node \n",
    "                # print(\"iteration 2\")\n",
    "                if not len(T_C):\n",
    "                    # print(\"hoops\")\n",
    "                    # iterate_1 = False\n",
    "                    N_v.append(last)\n",
    "                    break\n",
    "                # find out the node, that reduces the conditional entropy the most\n",
    "                min_H_v_Q, min_T_C_v = 10**5, -1\n",
    "                for T_C_v in T_C:\n",
    "                    h = H_v_plus_C_Q(v, T + [T_C_v], S)                    \n",
    "                    if h < min_H_v_Q:\n",
    "                        min_H_v_Q = h\n",
    "                        min_T_C_v = T_C_v\n",
    "                        # print(\"comes here\")\n",
    "                if H_v_plus_C_Q(v, T, S) - min_H_v_Q > E/2:\n",
    "                    # print(\"makes it here\")\n",
    "                    T.append(min_T_C_v)\n",
    "                    T_C.remove(min_T_C_v)\n",
    "                    last = min_T_C_v\n",
    "                else:\n",
    "                    # print(\"fails here\")\n",
    "                    iterate_2 = False\n",
    "                    if last != -1:\n",
    "                        # print(\"fails but good\")\n",
    "                        N_v.append(last)\n",
    "                    else:\n",
    "                        iterate_1 = False # no new node is appended to T, hence all legit neighbour nodes are added to N_v\n",
    "        N_V.append(N_v)\n",
    "\n",
    "    # print(\"neighbours of node v\", N_V)\n",
    "\n",
    "    return N_V\n",
    "        "
   ]
  },
  {
   "cell_type": "code",
   "execution_count": 8,
   "metadata": {},
   "outputs": [],
   "source": [
    "def generate_samples_coin_toss(d, T, pc): # pc -> coin toss probability\n",
    "    samples = []\n",
    "    # samples for t=0\n",
    "    samples.append([])\n",
    "    for v in range(N):\n",
    "        sample = []\n",
    "        for m in range(M):\n",
    "            sample.append(np.random.binomial(n=1, p=G_params[v]))\n",
    "        samples[-1].append(sample)        \n",
    " \n",
    "    for t in range(1,T):\n",
    "        samples.append([])\n",
    "        # determine the Bernoulli paremeters for t\n",
    "        C  = 0\n",
    "        if t>d-1: # coin can be tossed \n",
    "            C = np.random.binomial(n=1, p=1-pc)    \n",
    "        for v in range(N):\n",
    "            influ = 0\n",
    "            for Nv in G[v]:\n",
    "                Nv_p = sum(samples[t-1][Nv]) # number of ones\n",
    "                influ += A_VU[v]*Nv_p/M\n",
    "            influ += A_VU[v]*samples[t-1- C*(d-1)][v][0]/M # influenced by self\n",
    "    \n",
    "            # updating the Bernoulli parameters\n",
    "            G_params[v] = (1 - A_V[v])*((1-Beta)*np.random.binomial(n=1,p=0.7) + Beta*Lv) + A_V[v]*influ\n",
    "            sample = []\n",
    "            for m in range(M):\n",
    "                sample.append(np.random.binomial(n=1, p=G_params[v]))\n",
    "            samples[-1].append(sample) \n",
    "\n",
    "    return samples"
   ]
  },
  {
   "cell_type": "code",
   "execution_count": 21,
   "metadata": {},
   "outputs": [],
   "source": [
    "def Mu(x):\n",
    "    return 0.4*x # L = 0.4, Mu_max = 0.4\n",
    "\n",
    "def generate_samples_random_Mv(T, Mu, M_): # Mu -> L-Lipschitz function, \n",
    "    samples = []\n",
    "    # samples for t=0\n",
    "    samples.append([])\n",
    "    for v in range(N):\n",
    "        sample = []\n",
    "        M = min(np.random.poisson(Mu(0.5)),M_) + 1\n",
    "        for m in range(M):\n",
    "            sample.append(np.random.binomial(n=1, p=G_params[v]))\n",
    "        samples[-1].append(sample)        \n",
    " \n",
    "    for t in range(1,T):\n",
    "        samples.append([])\n",
    "        # determine the Bernoulli paremeters for t\n",
    "        for v in range(N):\n",
    "            influ = 0\n",
    "            for Nv in G[v]:\n",
    "                Nv_p = sum(samples[t-1][Nv]) # number of ones\n",
    "                influ += A_VU[v]*Nv_p/len(samples[t-1][Nv])\n",
    "            influ += A_VU[v]*sum(samples[t-1][v])/len(samples[t-1][v]) # influenced by self\n",
    "    \n",
    "            # updating the Bernoulli parameters\n",
    "            G_params[v] = (1 - A_V[v])*((1-Beta)*np.random.binomial(n=1,p=0.7) + Beta*Lv) + A_V[v]*influ\n",
    "            sample = []\n",
    "            M = min(np.random.poisson(Mu(G_params[v])),M_) + 1\n",
    "            for m in range(M):\n",
    "                sample.append(np.random.binomial(n=1, p=G_params[v]))\n",
    "            samples[-1].append(sample) \n",
    "\n",
    "    return samples"
   ]
  },
  {
   "cell_type": "code",
   "execution_count": 22,
   "metadata": {},
   "outputs": [],
   "source": [
    "def generate_samples_r_Mv_r_d(T, Mu, M_, d): # [t-d,t-d+1,....t] -> randomly choose a sample to go forward\n",
    "    samples = []\n",
    "    # samples for t=0\n",
    "    samples.append([])\n",
    "    for v in range(N):\n",
    "        sample = []\n",
    "        M = min(np.random.poisson(Mu(0.5)),M_) + 1\n",
    "        for m in range(M):\n",
    "            sample.append(np.random.binomial(n=1, p=G_params[v]))\n",
    "        samples[-1].append(sample)        \n",
    " \n",
    "    for t in range(1,T):\n",
    "        samples.append([])\n",
    "        C = 0\n",
    "        if t>d:\n",
    "            C = np.random.randint(0, d+1)\n",
    "        # determine the Bernoulli paremeters for t\n",
    "        for v in range(N):\n",
    "            influ = 0\n",
    "            for Nv in G[v]:\n",
    "                Nv_p = sum(samples[t-1-C][Nv]) # number of ones\n",
    "                influ += A_VU[v]*Nv_p/len(samples[t-1-C][Nv])\n",
    "            influ += A_VU[v]*sum(samples[t-1-C][v])/len(samples[t-1-C][v]) # influenced by self\n",
    "    \n",
    "            # updating the Bernoulli parameters\n",
    "            G_params[v] = (1 - A_V[v])*((1-Beta)*np.random.binomial(n=1,p=0.7) + Beta*Lv) + A_V[v]*influ\n",
    "            sample = []\n",
    "            M = min(np.random.poisson(Mu(G_params[v])),M_) + 1\n",
    "            for m in range(M):\n",
    "                sample.append(np.random.binomial(n=1, p=G_params[v]))\n",
    "            samples[-1].append(sample)\n",
    "\n",
    "    return samples\n",
    "\n",
    "def sample_geometric_in_range(p, d):\n",
    "    while True:\n",
    "        x = np.random.geometric(p) - 1  # Shift to start from 0\n",
    "        if x <= d:\n",
    "            return x\n",
    "\n",
    "def generate_samples_r_Mv_r_d1(T, Mu, M_, d): # [t-d,t-d+1,....t] -> randomly choose a sample to go forward\n",
    "    samples = []\n",
    "    # samples for t=0\n",
    "    samples.append([])\n",
    "    for v in range(N):\n",
    "        sample = []\n",
    "        M = min(np.random.poisson(Mu(0.5)),M_) + 1\n",
    "        for m in range(M):\n",
    "            sample.append(np.random.binomial(n=1, p=G_params[v]))\n",
    "        samples[-1].append(sample)        \n",
    " \n",
    "    for t in range(1,T):\n",
    "        samples.append([])\n",
    "        C = 0\n",
    "        if t>d:\n",
    "            C = sample_geometric_in_range(0.1, d)\n",
    "        # determine the Bernoulli paremeters for t\n",
    "        for v in range(N):\n",
    "            influ = 0\n",
    "            for Nv in G[v]:\n",
    "                Nv_p = sum(samples[t-1-C][Nv]) # number of ones\n",
    "                influ += A_VU[v]*Nv_p/len(samples[t-1-C][Nv])\n",
    "            influ += A_VU[v]*sum(samples[t-1-C][v])/len(samples[t-1-C][v]) # influenced by self\n",
    "    \n",
    "            # updating the Bernoulli parameters\n",
    "            G_params[v] = (1 - A_V[v])*((1-Beta)*np.random.binomial(n=1,p=0.7) + Beta*Lv) + A_V[v]*influ\n",
    "            sample = []\n",
    "            M = min(np.random.poisson(Mu(G_params[v])),M_) + 1\n",
    "            for m in range(M):\n",
    "                sample.append(np.random.binomial(n=1, p=G_params[v]))\n",
    "            samples[-1].append(sample)\n",
    "\n",
    "    return samples\n",
    "\n",
    "def generate_samples_r_Mv_coin_toss(T, Mu, M_, d, pc):\n",
    "    samples = []\n",
    "    # samples for t=0\n",
    "    samples.append([])\n",
    "    for v in range(N):\n",
    "        sample = []\n",
    "        M = min(np.random.poisson(Mu(0.5)),M_) + 1\n",
    "        for m in range(M):\n",
    "            sample.append(np.random.binomial(n=1, p=G_params[v]))\n",
    "        samples[-1].append(sample)        \n",
    " \n",
    "    for t in range(1,T):\n",
    "        samples.append([])\n",
    "        C = 0\n",
    "        if t>d:\n",
    "            C = np.random.binomial(n=1, p=(1-pc))\n",
    "        # determine the Bernoulli paremeters for t\n",
    "        for v in range(N):\n",
    "            influ = 0\n",
    "            for Nv in G[v]:\n",
    "                Nv_p = sum(samples[t-1-C*d][Nv]) # number of ones\n",
    "                influ += A_VU[v]*Nv_p/len(samples[t-1-C*d][Nv])\n",
    "            influ += A_VU[v]*sum(samples[t-1-C*d][v])/len(samples[t-1-C*d][v]) # influenced by self\n",
    "    \n",
    "            # updating the Bernoulli parameters\n",
    "            G_params[v] = (1 - A_V[v])*((1-Beta)*np.random.binomial(n=1,p=0.7) + Beta*Lv) + A_V[v]*influ\n",
    "            sample = []\n",
    "            M = min(np.random.poisson(Mu(G_params[v])),M_) + 1\n",
    "            for m in range(M):\n",
    "                sample.append(np.random.binomial(n=1, p=G_params[v]))\n",
    "            samples[-1].append(sample)\n",
    "\n",
    "    return samples"
   ]
  },
  {
   "cell_type": "code",
   "execution_count": 23,
   "metadata": {},
   "outputs": [],
   "source": [
    "def RecGreedy_1(E,S,D): # for the coin toss, Y(t) = {y(t), y(t-d)} --> Markov chain\n",
    "    T, N = len(S), len(S[0])\n",
    "    N_V = []\n",
    "    for v in range(N):\n",
    "        N_v ,T = [v], []\n",
    "        iterate_1 = True\n",
    "        while iterate_1:\n",
    "            # print(\"iteration 1\")\n",
    "            T = copy.deepcopy(N_v) # temp neighbour nodes list\n",
    "            iterate_2 = True\n",
    "            T_C = [x for x in range(N) if x not in T] # complement of T\n",
    "            last = -1\n",
    "            if not len(T_C):\n",
    "                break\n",
    "            while iterate_2: # to add the last node appended to T as a legit neighbour node \n",
    "                # print(\"iteration 2\")\n",
    "                if not len(T_C):\n",
    "                    # print(\"hoops\")\n",
    "                    # iterate_1 = False\n",
    "                    N_v.append(last)\n",
    "                    break\n",
    "                # find out the node, that reduces the conditional entropy the most\n",
    "                min_H_v_Q, min_T_C_v = 10**5, -1\n",
    "                for T_C_v in T_C:\n",
    "                    h = H_v_plus_C_Q_past(v, T + [T_C_v], D,S)                    \n",
    "                    if h < min_H_v_Q:\n",
    "                        min_H_v_Q = h\n",
    "                        min_T_C_v = T_C_v\n",
    "                        # print(\"comes here\")\n",
    "                if H_v_plus_C_Q_past(v, T, D,S) - min_H_v_Q > E/2:\n",
    "                    # print(\"makes it here\")\n",
    "                    T.append(min_T_C_v)\n",
    "                    T_C.remove(min_T_C_v)\n",
    "                    last = min_T_C_v\n",
    "                else:\n",
    "                    # print(\"fails here\")\n",
    "                    iterate_2 = False\n",
    "                    if last != -1:\n",
    "                        # print(\"fails but good\")\n",
    "                        N_v.append(last)\n",
    "                    else:\n",
    "                        iterate_1 = False # no new node is appended to T, hence all legit neighbour nodes are added to N_v\n",
    "        N_V.append(N_v)\n",
    "\n",
    "    # print(\"neighbours of node v\", N_V)\n",
    "\n",
    "    return N_V"
   ]
  },
  {
   "cell_type": "code",
   "execution_count": 24,
   "metadata": {},
   "outputs": [],
   "source": [
    "G = [[1], [0, 2], [3, 1], [2, 4], [3,5], [4,6],[5]] \n",
    "\n",
    "# G = [[1,3],[0,2,4],[1,5],[0,4,6],[1,3,5,7],[2,4,8],[3,7],[4,6,8],[5,7]] # array at the ith position contains the neighbouring nodes of node i\n",
    "N = len(G) \n",
    "G_params = [0.5]*N # initially unbiased -> Bernoulli parameters\n",
    "A_V = [0.8 for v in range(N)] # influence of samples -> alpha_v in paper\n",
    "A_VU = [1/(len(G[v])+1) for v in range(N)] # all neighbours equally influence any node\n",
    "# s1 = generate_samples_r_Mv_r_d(100000,Mu,3,20)"
   ]
  },
  {
   "cell_type": "code",
   "execution_count": 25,
   "metadata": {},
   "outputs": [],
   "source": [
    "def verify(a):\n",
    "    for v in range(len(a)):\n",
    "        s = set(a[v][1:])\n",
    "        if s != set(G[v]):\n",
    "            return 0\n",
    "    return 1    "
   ]
  },
  {
   "cell_type": "code",
   "execution_count": 26,
   "metadata": {},
   "outputs": [],
   "source": [
    "def generate_samples_coin_toss_subset(T, Mu, M_, d, pc, N1):  # N1 is a list of nodes that toss coin\n",
    "    N0 = [x for x in list(range(N)) if x not in N1]\n",
    "    samples = []\n",
    "    # samples for t=0\n",
    "    samples.append([])\n",
    "    for v in range(N):\n",
    "        sample = []\n",
    "        M = min(np.random.poisson(Mu(0.5)),M_) + 1\n",
    "        for m in range(M):\n",
    "            sample.append(np.random.binomial(n=1, p=G_params[v]))\n",
    "        samples[-1].append(sample)        \n",
    " \n",
    "    for t in range(1,T):\n",
    "        samples.append([])\n",
    "        C = 0\n",
    "        if t>d:\n",
    "            C = np.random.binomial(n=1, p=(1-pc))\n",
    "        # determine the Bernoulli paremeters for t\n",
    "        for v in N1:\n",
    "            influ = 0\n",
    "            for Nv in G[v]:\n",
    "                Nv_p = sum(samples[t-1-C*d][Nv]) # number of ones\n",
    "                influ += A_VU[v]*Nv_p/len(samples[t-1-C*d][Nv])\n",
    "            influ += A_VU[v]*sum(samples[t-1-C*d][v])/len(samples[t-1-C*d][v]) # influenced by self\n",
    "\n",
    "            # updating the Bernoulli parameters\n",
    "            G_params[v] = (1 - A_V[v])*((1-Beta)*np.random.binomial(n=1,p=0.7) + Beta*Lv) + A_V[v]*influ\n",
    "            sample = []\n",
    "            M = min(np.random.poisson(Mu(G_params[v])),M_) + 1\n",
    "            for m in range(M):\n",
    "                sample.append(np.random.binomial(n=1, p=G_params[v]))\n",
    "            samples[-1].append(sample)\n",
    "\n",
    "\n",
    "        for v in N0:\n",
    "            influ = 0\n",
    "            for Nv in G[v]:\n",
    "                Nv_p = sum(samples[t-1][Nv]) # number of ones\n",
    "                influ += A_VU[v]*Nv_p/len(samples[t-1][Nv])\n",
    "            influ += A_VU[v]*sum(samples[t-1][v])/len(samples[t-1][v]) # influenced by self    \n",
    "\n",
    "\n",
    "            # updating the Bernoulli parameters\n",
    "            G_params[v] = (1 - A_V[v])*((1-Beta)*np.random.binomial(n=1,p=0.7) + Beta*Lv) + A_V[v]*influ\n",
    "            sample = []\n",
    "            M = min(np.random.poisson(Mu(G_params[v])),M_) + 1\n",
    "            for m in range(M):\n",
    "                sample.append(np.random.binomial(n=1, p=G_params[v]))\n",
    "            samples[-1].append(sample)\n",
    "\n",
    "    return samples"
   ]
  },
  {
   "cell_type": "code",
   "execution_count": 27,
   "metadata": {},
   "outputs": [],
   "source": [
    "def gen_samp(T, Mu, M_, d, pc):\n",
    "    samples = []\n",
    "    tail_counts = 0\n",
    "    trck = 0 # to keep track of the no toss counts\n",
    "    # samples for t=0\n",
    "    samples.append([])\n",
    "    for v in range(N):\n",
    "        sample = []\n",
    "        M = min(np.random.poisson(Mu(0.5)),M_) + 1\n",
    "        for m in range(M):\n",
    "            sample.append(np.random.binomial(n=1, p=G_params[v]))\n",
    "        samples[-1].append(sample)        \n",
    " \n",
    "    for t in range(1,T):\n",
    "        samples.append([])\n",
    "        C = 0\n",
    "        if t>d and trck==0:\n",
    "            C = np.random.binomial(n=1, p=(1-pc))\n",
    "            tail_counts += C\n",
    "            if C:\n",
    "                trck = d\n",
    "        elif trck:\n",
    "            trck -= 1\n",
    "            \n",
    "        # determine the Bernoulli paremeters for t\n",
    "        for v in range(N):\n",
    "            influ = 0\n",
    "            for Nv in G[v]:\n",
    "                Nv_p = sum(samples[t-1-C*d][Nv]) # number of ones\n",
    "                influ += A_VU[v]*Nv_p/len(samples[t-1-C*d][Nv])\n",
    "            influ += A_VU[v]*sum(samples[t-1-C*d][v])/len(samples[t-1-C*d][v]) # influenced by self\n",
    "    \n",
    "            # updating the Bernoulli parameters\n",
    "            G_params[v] = (1 - A_V[v])*((1-Beta)*np.random.binomial(n=1,p=0.7) + Beta*Lv) + A_V[v]*influ\n",
    "            sample = []\n",
    "            M = min(np.random.poisson(Mu(G_params[v])),M_) + 1\n",
    "            for m in range(M):\n",
    "                sample.append(np.random.binomial(n=1, p=G_params[v]))\n",
    "            samples[-1].append(sample)\n",
    "    # print(\"# tails = \", tail_counts)\n",
    "    return samples"
   ]
  },
  {
   "cell_type": "code",
   "execution_count": 29,
   "metadata": {},
   "outputs": [
    {
     "name": "stdout",
     "output_type": "stream",
     "text": [
      "0.0\n"
     ]
    }
   ],
   "source": [
    "E =[0.08]\n",
    "for e in E:\n",
    "    c = 0\n",
    "    for _ in range(30):\n",
    "        d = 30\n",
    "        # s1 = generate_samples(1, 3000)\n",
    "        # s1 = generate_samples_coin_toss_subset(35000, Mu, 1, d, 0.9 ,[2,3,4])\n",
    "        s1 = gen_samp(4600, Mu, 1, d, 0.9)\n",
    "        c += verify(RecGreedy_1(e, s1,[d]))\n",
    "        # c += verify(RecGreedy_1(0.18,s3,[0,d]))\n",
    "    print(c/30)    "
   ]
  },
  {
   "cell_type": "code",
   "execution_count": null,
   "metadata": {},
   "outputs": [],
   "source": [
    "T = 2600, p = 0.9, d = 30\n",
    "0.05, 0\n",
    "0.55, 0.2\n",
    "0.06, 0.733\n",
    "0.065, 0.933\n",
    "0.07, 0.966\n",
    "0.075, 1\n",
    "0.08 , \n",
    "0.085, 1\n",
    "0.09 , \n",
    "0.095, 1\n",
    "0.1, 0.933 \n",
    "0.12, 0.466\n",
    "0.14, \n",
    "0.15, 0"
   ]
  },
  {
   "cell_type": "code",
   "execution_count": null,
   "metadata": {},
   "outputs": [
    {
     "data": {
      "text/plain": [
       "[<matplotlib.lines.Line2D at 0x26cc95951d0>]"
      ]
     },
     "execution_count": 28,
     "metadata": {},
     "output_type": "execute_result"
    },
    {
     "data": {
      "image/png": "[encoded data removed]",
      "text/plain": [
       "<Figure size 640x480 with 1 Axes>"
      ]
     },
     "metadata": {},
     "output_type": "display_data"
    }
   ],
   "source": [
    "# ring - 7nodes, T = 2400\n",
    "prb = [0,0,0.133,0.6,0.866,1,1,1,1,1,1,0.866,0.03,0,0]\n",
    "Es = [0.05, 0.055, 0.06, 0.065, 0.07, 0.075, 0.08, 0.085, 0.09, 0.095, 0.1, 0.12,0.14,0.15, 0.2]\n",
    "plt.plot(Es,prb,marker=\"o\")"
   ]
  },
  {
   "cell_type": "code",
   "execution_count": null,
   "metadata": {},
   "outputs": [],
   "source": [
    "c = 0\n",
    "for _ in range(30):\n",
    "    d = 30 \n",
    "    # s1 = generate_samples(1, 3000)\n",
    "    # s1 = generate_samples_coin_toss_subset(35000, Mu, 1, d, 0.9 ,[2,3,4])\n",
    "    s1 = generate_samples_r_Mv_coin_toss(2400, Mu, 1, d, 1)\n",
    "    c += verify(RecGreedy(0.07, s1))\n",
    "    # c += verify(RecGreedy_1(0.18,s3,[0,d]))\n",
    "print(c/30)    "
   ]
  },
  {
   "cell_type": "code",
   "execution_count": 8,
   "metadata": {},
   "outputs": [],
   "source": [
    "# T = 10000, tree 7 nodes \n",
    "Es_t = [0.03, 0.035, 0.04, 0.045, 0.05, 0.055, 0.06, 0.065, 0.07, 0.08, 0.085]\n",
    "prb_t = [0, 0.1, 0.9, 1, 1, 1, 1, 1, 0.823, 0.23, 0]\n",
    "Es_0p9_d_30_t = [0.03, 0.035, 0.04, 0.045, 0.05, 0.055, 0.06, 0.065, 0.07, 0.075, 0.08]\n",
    "prb_0p9_d_30_t = [0.0, 0.033, 0.9, 1.0, 1.0, 1.0, 1.0, 1.0, 0.07, 0.0266, 0.0]\n",
    "Es_0p7_d_30_t = [0.03, 0.035, 0.04, 0.045, 0.05, 0.055, 0.06, 0.065, 0.07, 0.08]\n",
    "prb_0p7_d_30_t = [0, 0.83, 1, 1, 1, 0.96, 0.933, 0.533, 0.066, 0]"
   ]
  },
  {
   "cell_type": "code",
   "execution_count": 27,
   "metadata": {},
   "outputs": [],
   "source": [
    "# T = 2600, a line of 7 nodes\n",
    "Es_l = [0.05, 0.055, 0.06, 0.065, 0.07, 0.075, 0.08, 0.085, 0.095, 0.1, 0.12, 0.15, 0.2]\n",
    "prb_l = [0.033, 0.166, 0.633, 0.966, 1.0, 1.0, 1.0, 1.0, 1.0, 0.966, 0.7, 0.0, 0.0]\n",
    "Es_0p9_d_30_l = [0.05, 0.055, 0.06, 0.065, 0.07, 0.075, 0.085, 0.095, 0.1, 0.12, 0.15]\n",
    "prb_0p9_d_30_l = [0.0, 0.2, 0.733, 0.933, 0.966, 1.0, 1.0, 1.0, 0.933, 0.466, 0.0]\n",
    "Es_0p7_d_30_l = [0.05, 0.055, 0.06, 0.065, 0.07, 0.075, 0.08, 0.085, 0.09, 0.095, 0.1, 0.12, 0.15]\n",
    "prb_0p7_d_30_l = [0.03, 0.2, 0.66, 0.933, 1.0, 1.0, 1.0, 1.0, 1.0, 1.0, 0.833, 0.46, 0.0]\n",
    "\n",
    "Es_0p9_d_5 = [0.05, 0.06, 0.065, 0.07, 0.075, 0.08, 0.085, 0.09, 0.1, 0.12, 0.15]\n",
    "prb_0p9_d_5 = [0.0, 0.7, 0.8, 0.966, 1.0, 1.0, 0.966, 0.95, 0.766, 0.1, 0.0]\n",
    "Es_0p7_d_5 = [0.045, 0.05, 0.055, 0.06, 0.065, 0.07, 0.08, 0.085, 0.09, 0.1, 0.15]\n",
    "prb_0p7_d_5 = [0.0, 0.033, 0.2, 0.8, 0.866, 1.0, 1.0, 0.93, 0.833, 0.4, 0.0]"
   ]
  },
  {
   "cell_type": "code",
   "execution_count": 28,
   "metadata": {},
   "outputs": [
    {
     "data": {
      "text/plain": [
       "[]"
      ]
     },
     "execution_count": 28,
     "metadata": {},
     "output_type": "execute_result"
    },
    {
     "data": {
      "image/png": "[encoded data removed]",
      "text/plain": [
       "<Figure size 640x480 with 1 Axes>"
      ]
     },
     "metadata": {},
     "output_type": "display_data"
    }
   ],
   "source": [
    "# ring - 7nodes, T = 2400\n",
    "prb = [0,0,0.133,0.6,0.866,1,1,1,1,1,1,0.866,0.03,0,0]\n",
    "Es = [0.05, 0.055, 0.06, 0.065, 0.07, 0.075, 0.08, 0.085, 0.09, 0.095, 0.1, 0.12,0.14,0.15, 0.2]\n",
    "# p_tail = 0.1, d = 30  \n",
    "Es_0p9_d_30 = [0.05, 0.055, 0.06, 0.065, 0.07, 0.075, 0.08, 0.085, 0.09, 0.1, 0.12, 0.14, 0.15, 0.2]\n",
    "prb_0p9_d_30 = [0.0, 0.033, 0.133, 0.633, 0.8, 0.966, 1.0, 1, 0.966, 0.933, 0.366, 0, 0.0, 0.0]\n",
    "Es_0p7_d_30 = [0.05, 0.06, 0.065, 0.07, 0.075, 0.08, 0.085, 0.09, 0.1, 0.11,0.12, 0.15, 0.2]\n",
    "prb_0p7_d_30 = [0.0, 0.2, 0.5, 0.866, 0.966, 1.0, 1.0, 1.0, 0.966, 0.7, 0.2, 0.0, 0.0]\n",
    "Es_0p9_d_5 = [0.05, 0.06, 0.065, 0.07, 0.075, 0.08, 0.085, 0.09, 0.095, 0.1, 0.12, 0.15]\n",
    "prb_0p9_d_5 = [0.0, 0.1, 0.5, 0.866, 0.933, 1.0, 1.0, 1.0, 0.966, 0.833, 0.066, 0.0]\n",
    "Es_0p7_d_5 = [0.06, 0.07, 0.075, 0.08, 0.085, 0.09, 0.1, 0.15]\n",
    "prb_0p7_d_5 = [0.066, 0.8, 0.9, 1.0, 0.966, 0.866, 0.2, 0.0]\n",
    "plt.plot(Es,prb,marker=\"o\",label=\"Pr(H)=1\")\n",
    "plt.plot(Es_0p9_d_5,prb_0p9_d_5,marker=\"o\",label=\"Pr(H)=0.9\")\n",
    "plt.plot(Es_0p7_d_5,prb_0p7_d_5,marker=\"o\",label=\"Pr(H)=0.7\")\n",
    "plt.legend()\n",
    "plt.plot()"
   ]
  },
  {
   "cell_type": "code",
   "execution_count": 10,
   "metadata": {},
   "outputs": [
    {
     "data": {
      "text/plain": [
       "[]"
      ]
     },
     "execution_count": 10,
     "metadata": {},
     "output_type": "execute_result"
    },
    {
     "data": {
      "image/png": "[encoded data removed]",
      "text/plain": [
       "<Figure size 640x480 with 1 Axes>"
      ]
     },
     "metadata": {},
     "output_type": "display_data"
    }
   ],
   "source": [
    "plt.plot(Es_t,prb_t,marker=\"o\",label=\"Pr(H)=1\")\n",
    "plt.plot(Es_0p9_d_30_t,prb_0p9_d_30_t,marker=\"o\",label=\"Pr(H)=0.9\")\n",
    "plt.plot(Es_0p7_d_30_t,prb_0p7_d_30_t,marker=\"o\",label=\"Pr(H)=0.7\")\n",
    "plt.xlabel(\"ε\")\n",
    "plt.ylabel(\"Probability of full recovery\")\n",
    "plt.legend()\n",
    "plt.plot()"
   ]
  },
  {
   "cell_type": "code",
   "execution_count": 4,
   "metadata": {},
   "outputs": [
    {
     "data": {
      "text/plain": [
       "0.30151134457776363"
      ]
     },
     "execution_count": 4,
     "metadata": {},
     "output_type": "execute_result"
    }
   ],
   "source": [
    "lb(10)"
   ]
  },
  {
   "cell_type": "code",
   "execution_count": 1,
   "metadata": {},
   "outputs": [],
   "source": [
    "import numpy as np\n",
    "def f(e):\n",
    "    return e**2 / (16* 27* 3**(2*np.log(3)/e))"
   ]
  },
  {
   "cell_type": "code",
   "execution_count": 15,
   "metadata": {},
   "outputs": [
    {
     "data": {
      "text/plain": [
       "np.float64(4.632027908251165e-06)"
      ]
     },
     "execution_count": 15,
     "metadata": {},
     "output_type": "execute_result"
    }
   ],
   "source": [
    "f(0.5)"
   ]
  },
  {
   "cell_type": "code",
   "execution_count": 12,
   "metadata": {},
   "outputs": [
    {
     "data": {
      "text/plain": [
       "<matplotlib.legend.Legend at 0x18cad081a90>"
      ]
     },
     "execution_count": 12,
     "metadata": {},
     "output_type": "execute_result"
    },
    {
     "data": {
      "image/png": "[encoded data removed]",
      "text/plain": [
       "<Figure size 640x480 with 1 Axes>"
      ]
     },
     "metadata": {},
     "output_type": "display_data"
    }
   ],
   "source": [
    "Ts = [800, 1000, 1200, 1400, 1600, 2000, 2400]\n",
    "prbs = [0.066,0.33, 0.63, 0.866, 0.933, 1, 1]\n",
    "prbs_0p9 = [0.033, 0.166, 0.533,0.6,0.9, 1, 1]\n",
    "prbs_0p7 = [0, 0.133, 0.433, 0.6, 0.9, 1, 1]\n",
    "plt.plot(Ts, prbs_0p9,marker='o',label=\"P(H)=0.9\")\n",
    "plt.plot(Ts, prbs_0p7,marker='o',label=\"P(H)=0.7\")\n",
    "plt.plot(Ts, prbs,marker='o',label=\"P(H)=1\")\n",
    "plt.xlabel(\"# samples\")\n",
    "plt.ylabel(\"probability of full recovery\")\n",
    "plt.legend()"
   ]
  },
  {
   "cell_type": "code",
   "execution_count": null,
   "metadata": {},
   "outputs": [],
   "source": []
  }
 ],
 "metadata": {
  "kernelspec": {
   "display_name": "Python 3",
   "language": "python",
   "name": "python3"
  },
  "language_info": {
   "codemirror_mode": {
    "name": "ipython",
    "version": 3
   },
   "file_extension": ".py",
   "mimetype": "text/x-python",
   "name": "python",
   "nbconvert_exporter": "python",
   "pygments_lexer": "ipython3",
   "version": "3.13.3"
  }
 },
 "nbformat": 4,
 "nbformat_minor": 2
}
