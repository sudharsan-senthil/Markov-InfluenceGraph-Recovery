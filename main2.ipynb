{
 "cells": [
  {
   "cell_type": "code",
   "execution_count": 1,
   "metadata": {},
   "outputs": [],
   "source": [
    "import numpy as np\n",
    "\n",
    "def simulate_markov_chain(P, num_steps, s=0):\n",
    "    \"\"\"\n",
    "    Simulates a Markov chain given a transition matrix P and number of time steps.\n",
    "    \n",
    "    Parameters:\n",
    "        P (numpy.ndarray): n x n transition matrix\n",
    "        num_steps (int): Number of time steps to run the simulation\n",
    "    \"\"\"\n",
    "    n = P.shape[0]\n",
    "    states = np.arange(n)\n",
    "    \n",
    "    # Start from a random initial state\n",
    "    current_state = np.random.choice(states)\n",
    "    state_counts = np.zeros(n)\n",
    "    \n",
    "    # Simulate the Markov chain\n",
    "    for i in range(num_steps+s):\n",
    "        if i > s:\n",
    "            state_counts[current_state] += 1\n",
    "        current_state = np.random.choice(states, p=P[current_state])\n",
    "    \n",
    "    # Estimate stationary distribution from state visit frequencies\n",
    "    estimated_stationary = state_counts / (num_steps)\n",
    "    \n",
    "    # Compute true stationary distribution by solving the eigenvector equation\n",
    "    eigvals, eigvecs = np.linalg.eig(P.T)\n",
    "    # print(eigvals) # to check if 1 is an eigen value\n",
    "    stationary_index = np.argmin(np.abs(eigvals - 1))  # Find the eigenvalue closest to 1\n",
    "    true_stationary = np.real(eigvecs[:, stationary_index]).flatten()\n",
    "    true_stationary /= np.sum(true_stationary)  # Normalize to sum to 1\n",
    "    norm_diff = np.linalg.norm(estimated_stationary - true_stationary, ord=1)\n",
    "    \n",
    "    return estimated_stationary, true_stationary, norm_diff    "
   ]
  },
  {
   "cell_type": "code",
   "execution_count": 55,
   "metadata": {},
   "outputs": [
    {
     "name": "stdout",
     "output_type": "stream",
     "text": [
      "0.018186666666666622\n"
     ]
    }
   ],
   "source": [
    "# Example usage\n",
    "P = np.array([[0.9, 0.1], [0.2, 0.8]])  # Example 2-state Markov chain\n",
    "num_steps = 10000\n",
    "avg_diff = 0\n",
    "cnt = 50\n",
    "for _ in range(cnt):\n",
    "    estimated_stationary, true_stationary, norm_diff = simulate_markov_chain(P, num_steps, s=200)\n",
    "    avg_diff += norm_diff/cnt\n",
    "# print(\"Estimated stationary distribution:\", estimated_stationary)\n",
    "# print(\"True stationary distribution:\", true_stationary)\n",
    "# print(\"Norm of difference:\", norm_diff)\n",
    "print(avg_diff)"
   ]
  },
  {
   "cell_type": "code",
   "execution_count": 33,
   "metadata": {},
   "outputs": [],
   "source": [
    "delta = 0.01\n",
    "def lb(e):\n",
    "    return (delta)*np.log((3**8)/delta)"
   ]
  },
  {
   "cell_type": "code",
   "execution_count": 34,
   "metadata": {},
   "outputs": [
    {
     "data": {
      "text/plain": [
       "np.float64(0.1339406849533297)"
      ]
     },
     "execution_count": 34,
     "metadata": {},
     "output_type": "execute_result"
    }
   ],
   "source": [
    "lb(0.09)"
   ]
  },
  {
   "cell_type": "code",
   "execution_count": 15,
   "metadata": {},
   "outputs": [
    {
     "data": {
      "text/plain": [
       "25.333333333333332"
      ]
     },
     "execution_count": 15,
     "metadata": {},
     "output_type": "execute_result"
    }
   ],
   "source": [
    "1 + 2.19/0.09"
   ]
  },
  {
   "cell_type": "code",
   "execution_count": 18,
   "metadata": {},
   "outputs": [
    {
     "data": {
      "text/plain": [
       "np.float64(1.0986122886681098)"
      ]
     },
     "execution_count": 18,
     "metadata": {},
     "output_type": "execute_result"
    }
   ],
   "source": [
    "np.log(3)"
   ]
  },
  {
   "cell_type": "code",
   "execution_count": null,
   "metadata": {},
   "outputs": [],
   "source": []
  },
  {
   "cell_type": "code",
   "execution_count": null,
   "metadata": {},
   "outputs": [],
   "source": []
  }
 ],
 "metadata": {
  "kernelspec": {
   "display_name": "Python 3",
   "language": "python",
   "name": "python3"
  },
  "language_info": {
   "codemirror_mode": {
    "name": "ipython",
    "version": 3
   },
   "file_extension": ".py",
   "mimetype": "text/x-python",
   "name": "python",
   "nbconvert_exporter": "python",
   "pygments_lexer": "ipython3",
   "version": "3.13.3"
  }
 },
 "nbformat": 4,
 "nbformat_minor": 2
}
